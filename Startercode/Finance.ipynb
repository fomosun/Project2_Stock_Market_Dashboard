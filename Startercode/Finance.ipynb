{
 "cells": [
  {
   "cell_type": "code",
   "execution_count": 30,
   "metadata": {},
   "outputs": [],
   "source": [
    "#https://iextrading.com/developer/docs/#attribution\n",
    "#https://pypi.org/project/iexfinance/\n",
    "#https://github.com/addisonlynch/iexfinance\n",
    "\n",
    "from iexfinance.stocks import Stock\n",
    "from datetime import datetime, timedelta\n",
    "import numpy as np\n",
    "from iexfinance.stocks import get_historical_data\n",
    "import pandas as pd\n",
    "import matplotlib.pyplot as plt\n",
    "import matplotlib.dates as mdates\n",
    "# set parameters so all plots are consistent\n",
    "plt.rcParams['figure.figsize'] = (20, 8)\n",
    "\n",
    "API_KEY = \"pk_02b9dcc6224746218ad55dcd0fe08099\"\n",
    "\n",
    "token = API_KEY"
   ]
  },
  {
   "cell_type": "code",
   "execution_count": 31,
   "metadata": {},
   "outputs": [
    {
     "name": "stdout",
     "output_type": "stream",
     "text": [
      "Ticker Symbol: AAPL\n"
     ]
    }
   ],
   "source": [
    "tickerSymbol = input(\"Ticker Symbol: \")\n",
    "companyInfo = Stock(tickerSymbol, token = API_KEY)\n",
    "stockPrice = companyInfo.get_price()\n"
   ]
  },
  {
   "cell_type": "code",
   "execution_count": 32,
   "metadata": {
    "scrolled": true
   },
   "outputs": [
    {
     "name": "stdout",
     "output_type": "stream",
     "text": [
      "Current Stock Price: 112.82\n"
     ]
    }
   ],
   "source": [
    "print(\"Current Stock Price:\",stockPrice)"
   ]
  },
  {
   "cell_type": "code",
   "execution_count": 34,
   "metadata": {},
   "outputs": [
    {
     "name": "stdout",
     "output_type": "stream",
     "text": [
      "View Historical Information for the current stock AAPL:\n",
      "input start date as yyyy,m,d: 2020,1,30\n",
      "input end date as yyyy,m,d:2020,12,31\n"
     ]
    }
   ],
   "source": [
    "print(\"View Historical Information for the current stock {}:\".format(tickerSymbol))\n",
    "sy, sm, sd = eval(input(\"input start date as yyyy,m,d: \"))\n",
    "ey, em, ed = eval(input(\"input end date as yyyy,m,d:\"  ))"
   ]
  },
  {
   "cell_type": "code",
   "execution_count": 35,
   "metadata": {},
   "outputs": [],
   "source": [
    "start = datetime(sy,sm,sd)\n",
    "end = datetime(ey, em,ed)\n",
    "\n",
    "historicalPrices = get_historical_data(tickerSymbol, start, end, token = API_KEY)\n"
   ]
  },
  {
   "cell_type": "code",
   "execution_count": 36,
   "metadata": {},
   "outputs": [],
   "source": [
    "stockHistoricals = pd.DataFrame(historicalPrices).T\n"
   ]
  },
  {
   "cell_type": "code",
   "execution_count": 37,
   "metadata": {},
   "outputs": [],
   "source": [
    "selected_columns = stockHistoricals[[\"open\", \"high\", \"low\", \"close\", \"close\", \"volume\"]]\n",
    "Stock_DF = selected_columns.copy()\n",
    "Stock_DF.columns = [\"Open\", \"High\", \"Low\", \"Close\", \"Adj Close\", \"Volume\"]\n",
    "Stock_DF.index.name = 'Date'"
   ]
  },
  {
   "cell_type": "code",
   "execution_count": 38,
   "metadata": {},
   "outputs": [
    {
     "data": {
      "text/html": [
       "<div>\n",
       "<style scoped>\n",
       "    .dataframe tbody tr th:only-of-type {\n",
       "        vertical-align: middle;\n",
       "    }\n",
       "\n",
       "    .dataframe tbody tr th {\n",
       "        vertical-align: top;\n",
       "    }\n",
       "\n",
       "    .dataframe thead th {\n",
       "        text-align: right;\n",
       "    }\n",
       "</style>\n",
       "<table border=\"1\" class=\"dataframe\">\n",
       "  <thead>\n",
       "    <tr style=\"text-align: right;\">\n",
       "      <th></th>\n",
       "      <th>Open</th>\n",
       "      <th>High</th>\n",
       "      <th>Low</th>\n",
       "      <th>Close</th>\n",
       "      <th>Adj Close</th>\n",
       "      <th>Volume</th>\n",
       "    </tr>\n",
       "    <tr>\n",
       "      <th>Date</th>\n",
       "      <th></th>\n",
       "      <th></th>\n",
       "      <th></th>\n",
       "      <th></th>\n",
       "      <th></th>\n",
       "      <th></th>\n",
       "    </tr>\n",
       "  </thead>\n",
       "  <tbody>\n",
       "    <tr>\n",
       "      <th>2020-01-30</th>\n",
       "      <td>80.14</td>\n",
       "      <td>81.02</td>\n",
       "      <td>79.69</td>\n",
       "      <td>80.97</td>\n",
       "      <td>80.97</td>\n",
       "      <td>126743232.0</td>\n",
       "    </tr>\n",
       "    <tr>\n",
       "      <th>2020-01-31</th>\n",
       "      <td>80.23</td>\n",
       "      <td>80.67</td>\n",
       "      <td>77.07</td>\n",
       "      <td>77.38</td>\n",
       "      <td>77.38</td>\n",
       "      <td>199588384.0</td>\n",
       "    </tr>\n",
       "    <tr>\n",
       "      <th>2020-02-03</th>\n",
       "      <td>76.08</td>\n",
       "      <td>78.37</td>\n",
       "      <td>75.56</td>\n",
       "      <td>77.17</td>\n",
       "      <td>77.17</td>\n",
       "      <td>173985604.0</td>\n",
       "    </tr>\n",
       "    <tr>\n",
       "      <th>2020-02-04</th>\n",
       "      <td>78.83</td>\n",
       "      <td>79.91</td>\n",
       "      <td>78.41</td>\n",
       "      <td>79.71</td>\n",
       "      <td>79.71</td>\n",
       "      <td>136616536.0</td>\n",
       "    </tr>\n",
       "    <tr>\n",
       "      <th>2020-02-05</th>\n",
       "      <td>80.88</td>\n",
       "      <td>81.19</td>\n",
       "      <td>79.74</td>\n",
       "      <td>80.36</td>\n",
       "      <td>80.36</td>\n",
       "      <td>118826872.0</td>\n",
       "    </tr>\n",
       "  </tbody>\n",
       "</table>\n",
       "</div>"
      ],
      "text/plain": [
       "             Open   High    Low  Close  Adj Close       Volume\n",
       "Date                                                          \n",
       "2020-01-30  80.14  81.02  79.69  80.97      80.97  126743232.0\n",
       "2020-01-31  80.23  80.67  77.07  77.38      77.38  199588384.0\n",
       "2020-02-03  76.08  78.37  75.56  77.17      77.17  173985604.0\n",
       "2020-02-04  78.83  79.91  78.41  79.71      79.71  136616536.0\n",
       "2020-02-05  80.88  81.19  79.74  80.36      80.36  118826872.0"
      ]
     },
     "execution_count": 38,
     "metadata": {},
     "output_type": "execute_result"
    }
   ],
   "source": [
    "Stock_DF.head()"
   ]
  },
  {
   "cell_type": "code",
   "execution_count": 39,
   "metadata": {},
   "outputs": [],
   "source": [
    "Stock_DF.to_csv(\"Ticker_Formated.csv\")"
   ]
  },
  {
   "cell_type": "code",
   "execution_count": null,
   "metadata": {},
   "outputs": [],
   "source": []
  },
  {
   "cell_type": "code",
   "execution_count": null,
   "metadata": {},
   "outputs": [],
   "source": []
  },
  {
   "cell_type": "code",
   "execution_count": null,
   "metadata": {},
   "outputs": [],
   "source": []
  }
 ],
 "metadata": {
  "kernelspec": {
   "display_name": "Python 3",
   "language": "python",
   "name": "python3"
  },
  "language_info": {
   "codemirror_mode": {
    "name": "ipython",
    "version": 3
   },
   "file_extension": ".py",
   "mimetype": "text/x-python",
   "name": "python",
   "nbconvert_exporter": "python",
   "pygments_lexer": "ipython3",
   "version": "3.7.6"
  }
 },
 "nbformat": 4,
 "nbformat_minor": 2
}
